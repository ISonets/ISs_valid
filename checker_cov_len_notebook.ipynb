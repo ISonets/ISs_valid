{
 "cells": [
  {
   "cell_type": "code",
   "execution_count": 1,
   "id": "43ab0151-9931-4091-9449-fd2382cbc5a1",
   "metadata": {},
   "outputs": [],
   "source": [
    "import numpy as np\n",
    "import pandas as pd\n",
    "import os\n",
    "import sys"
   ]
  },
  {
   "cell_type": "code",
   "execution_count": 2,
   "id": "7663ba69-c696-465e-841c-85d06a58660a",
   "metadata": {},
   "outputs": [],
   "source": [
    "folder_path = '/Downloads/str1627/for_test_v4/'"
   ]
  },
  {
   "cell_type": "code",
   "execution_count": 4,
   "id": "cfd69d06-a6ae-49f3-a6f0-96cf17fe5f14",
   "metadata": {},
   "outputs": [],
   "source": [
    "isescan_cols = [0,2,3,4]\n",
    "blast_cols = [0,2,3,4,7]"
   ]
  },
  {
   "cell_type": "code",
   "execution_count": 5,
   "id": "c07d7471-2c5d-49f4-b280-6d370a515556",
   "metadata": {},
   "outputs": [],
   "source": [
    "depth_file = pd.read_csv('/home/ignatsonets/Downloads/str1627/for_test_v4/yp_str_1627.aln2.depth', sep = '\\t', header = None, names = ['Contig', 'Coord', 'Depth'])\n",
    "depth_by_contig_df = depth_file.groupby('Contig')['Depth'].median().reset_index()\n",
    "length_by_contig_df = depth_file.groupby('Contig')['Coord'].size().reset_index()\n",
    "length_by_contig_df.columns = ['Contig', 'Length']"
   ]
  },
  {
   "cell_type": "code",
   "execution_count": null,
   "id": "55c6f6f0-c872-42e4-8a55-0ad5b185b482",
   "metadata": {},
   "outputs": [],
   "source": [
    "#  thresholds also saved here, in case I will get rid of argparse\n",
    "#threshold_cov = 1.5\n",
    "#threshold_len = 0.5\n",
    "for file_name in os.listdir(folder_path):\n",
    "    if file_name.endswith('.depth'):\n",
    "        depth_file = pd.read_csv(file_name, sep = '\\t', header = None, names = ['Contig', 'Coord', 'Depth'])\n",
    "        depth_by_contig_df = depth_file.groupby('Contig')['Depth'].median().reset_index()\n",
    "        length_by_contig_df = depth_file.groupby('Contig')['Coord'].size().reset_index()\n",
    "        length_by_contig_df.columns = ['Contig', 'Length']"
   ]
  },
  {
   "cell_type": "code",
   "execution_count": null,
   "id": "a26c845b-ee53-4f8d-9e65-6ccb8b5e5413",
   "metadata": {},
   "outputs": [],
   "source": [
    "depth_file"
   ]
  },
  {
   "cell_type": "code",
   "execution_count": null,
   "id": "d5afc403-715e-4233-bf39-58c5868e6377",
   "metadata": {},
   "outputs": [],
   "source": [
    "depth_by_contig_df"
   ]
  },
  {
   "cell_type": "code",
   "execution_count": null,
   "id": "f687dee4-9dfd-465b-b2f7-4ab91b865aa8",
   "metadata": {},
   "outputs": [],
   "source": [
    "length_by_contig_df"
   ]
  },
  {
   "cell_type": "code",
   "execution_count": 24,
   "id": "5ca806c2-431f-41a6-81bf-0ce09273d3fa",
   "metadata": {},
   "outputs": [],
   "source": [
    "data_isescan = pd.read_csv('/home/ignatsonets/Downloads/str1627/for_test_v4/yp_str_1627.isescan_res.csv', sep =',', usecols = isescan_cols)\n",
    "data_isescan['Length'] = data_isescan['isEnd'] - data_isescan['isBegin']"
   ]
  },
  {
   "cell_type": "code",
   "execution_count": null,
   "id": "0fe8475e-6915-4a59-ad69-dcf988250e7d",
   "metadata": {},
   "outputs": [],
   "source": [
    "for file_name in os.listdir(folder_path):\n",
    "    if file_name.endswith('.csv'):\n",
    "        data_isescan = pd.read_csv(file_name, sep =',', usecols = isescan_cols)\n",
    "            #  ISEscan file doesn't have length column, like a BLAST, so we create it.\n",
    "        data_isescan['Length'] = data_isescan['isEnd'] - data_isescan['isBegin']"
   ]
  },
  {
   "cell_type": "code",
   "execution_count": 25,
   "id": "a1962df9-800a-461c-a6ca-d392d7482d60",
   "metadata": {},
   "outputs": [
    {
     "data": {
      "text/html": [
       "<div>\n",
       "<style scoped>\n",
       "    .dataframe tbody tr th:only-of-type {\n",
       "        vertical-align: middle;\n",
       "    }\n",
       "\n",
       "    .dataframe tbody tr th {\n",
       "        vertical-align: top;\n",
       "    }\n",
       "\n",
       "    .dataframe thead th {\n",
       "        text-align: right;\n",
       "    }\n",
       "</style>\n",
       "<table border=\"1\" class=\"dataframe\">\n",
       "  <thead>\n",
       "    <tr style=\"text-align: right;\">\n",
       "      <th></th>\n",
       "      <th>seqID</th>\n",
       "      <th>cluster</th>\n",
       "      <th>isBegin</th>\n",
       "      <th>isEnd</th>\n",
       "      <th>Length</th>\n",
       "    </tr>\n",
       "  </thead>\n",
       "  <tbody>\n",
       "    <tr>\n",
       "      <th>0</th>\n",
       "      <td>contig_2</td>\n",
       "      <td>IS21_203</td>\n",
       "      <td>39</td>\n",
       "      <td>1948</td>\n",
       "      <td>1909</td>\n",
       "    </tr>\n",
       "    <tr>\n",
       "      <th>1</th>\n",
       "      <td>contig_4</td>\n",
       "      <td>IS256_47</td>\n",
       "      <td>1</td>\n",
       "      <td>1315</td>\n",
       "      <td>1314</td>\n",
       "    </tr>\n",
       "    <tr>\n",
       "      <th>2</th>\n",
       "      <td>contig_4</td>\n",
       "      <td>IS200/IS605_384</td>\n",
       "      <td>4275</td>\n",
       "      <td>4985</td>\n",
       "      <td>710</td>\n",
       "    </tr>\n",
       "    <tr>\n",
       "      <th>3</th>\n",
       "      <td>contig_4</td>\n",
       "      <td>IS200/IS605_384</td>\n",
       "      <td>90582</td>\n",
       "      <td>91292</td>\n",
       "      <td>710</td>\n",
       "    </tr>\n",
       "    <tr>\n",
       "      <th>4</th>\n",
       "      <td>contig_4</td>\n",
       "      <td>IS200/IS605_384</td>\n",
       "      <td>100781</td>\n",
       "      <td>101494</td>\n",
       "      <td>713</td>\n",
       "    </tr>\n",
       "    <tr>\n",
       "      <th>5</th>\n",
       "      <td>contig_5</td>\n",
       "      <td>IS3_61</td>\n",
       "      <td>42715</td>\n",
       "      <td>46332</td>\n",
       "      <td>3617</td>\n",
       "    </tr>\n",
       "  </tbody>\n",
       "</table>\n",
       "</div>"
      ],
      "text/plain": [
       "      seqID          cluster  isBegin   isEnd  Length\n",
       "0  contig_2         IS21_203       39    1948    1909\n",
       "1  contig_4         IS256_47        1    1315    1314\n",
       "2  contig_4  IS200/IS605_384     4275    4985     710\n",
       "3  contig_4  IS200/IS605_384    90582   91292     710\n",
       "4  contig_4  IS200/IS605_384   100781  101494     713\n",
       "5  contig_5           IS3_61    42715   46332    3617"
      ]
     },
     "execution_count": 25,
     "metadata": {},
     "output_type": "execute_result"
    }
   ],
   "source": [
    "data_isescan"
   ]
  },
  {
   "cell_type": "code",
   "execution_count": 18,
   "id": "6e9b9ba0-6a18-4503-bffd-f559809ec254",
   "metadata": {},
   "outputs": [],
   "source": [
    "output_res_isescan =[]\n",
    "for _, row in data_isescan.iterrows():\n",
    "    start = row['isBegin']\n",
    "    stop = row['isEnd']\n",
    "    window_data = depth_file[(depth_file['Coord'] >= start) & (depth_file['Coord'] <= stop)]\n",
    "    median_window = window_data['Depth'].median()\n",
    "    output_res_isescan.append(median_window)\n",
    "output_res_isescan\n",
    "data_isescan['Median_Depth']= output_res_isescan"
   ]
  },
  {
   "cell_type": "code",
   "execution_count": 19,
   "id": "b1843a1a-e1d3-4d9b-82d3-16a2031bb8e1",
   "metadata": {},
   "outputs": [
    {
     "data": {
      "text/html": [
       "<div>\n",
       "<style scoped>\n",
       "    .dataframe tbody tr th:only-of-type {\n",
       "        vertical-align: middle;\n",
       "    }\n",
       "\n",
       "    .dataframe tbody tr th {\n",
       "        vertical-align: top;\n",
       "    }\n",
       "\n",
       "    .dataframe thead th {\n",
       "        text-align: right;\n",
       "    }\n",
       "</style>\n",
       "<table border=\"1\" class=\"dataframe\">\n",
       "  <thead>\n",
       "    <tr style=\"text-align: right;\">\n",
       "      <th></th>\n",
       "      <th>seqID</th>\n",
       "      <th>cluster</th>\n",
       "      <th>isBegin</th>\n",
       "      <th>isEnd</th>\n",
       "      <th>Median_Depth</th>\n",
       "    </tr>\n",
       "  </thead>\n",
       "  <tbody>\n",
       "    <tr>\n",
       "      <th>0</th>\n",
       "      <td>contig_2</td>\n",
       "      <td>IS21_203</td>\n",
       "      <td>39</td>\n",
       "      <td>1948</td>\n",
       "      <td>90.5</td>\n",
       "    </tr>\n",
       "    <tr>\n",
       "      <th>1</th>\n",
       "      <td>contig_4</td>\n",
       "      <td>IS256_47</td>\n",
       "      <td>1</td>\n",
       "      <td>1315</td>\n",
       "      <td>92.0</td>\n",
       "    </tr>\n",
       "    <tr>\n",
       "      <th>2</th>\n",
       "      <td>contig_4</td>\n",
       "      <td>IS200/IS605_384</td>\n",
       "      <td>4275</td>\n",
       "      <td>4985</td>\n",
       "      <td>222.0</td>\n",
       "    </tr>\n",
       "    <tr>\n",
       "      <th>3</th>\n",
       "      <td>contig_4</td>\n",
       "      <td>IS200/IS605_384</td>\n",
       "      <td>90582</td>\n",
       "      <td>91292</td>\n",
       "      <td>196.0</td>\n",
       "    </tr>\n",
       "    <tr>\n",
       "      <th>4</th>\n",
       "      <td>contig_4</td>\n",
       "      <td>IS200/IS605_384</td>\n",
       "      <td>100781</td>\n",
       "      <td>101494</td>\n",
       "      <td>221.0</td>\n",
       "    </tr>\n",
       "    <tr>\n",
       "      <th>5</th>\n",
       "      <td>contig_5</td>\n",
       "      <td>IS3_61</td>\n",
       "      <td>42715</td>\n",
       "      <td>46332</td>\n",
       "      <td>209.0</td>\n",
       "    </tr>\n",
       "  </tbody>\n",
       "</table>\n",
       "</div>"
      ],
      "text/plain": [
       "      seqID          cluster  isBegin   isEnd  Median_Depth\n",
       "0  contig_2         IS21_203       39    1948          90.5\n",
       "1  contig_4         IS256_47        1    1315          92.0\n",
       "2  contig_4  IS200/IS605_384     4275    4985         222.0\n",
       "3  contig_4  IS200/IS605_384    90582   91292         196.0\n",
       "4  contig_4  IS200/IS605_384   100781  101494         221.0\n",
       "5  contig_5           IS3_61    42715   46332         209.0"
      ]
     },
     "execution_count": 19,
     "metadata": {},
     "output_type": "execute_result"
    }
   ],
   "source": [
    "data_isescan"
   ]
  },
  {
   "cell_type": "code",
   "execution_count": 22,
   "id": "44fa8607-1876-421d-b162-1bc86e51d2d6",
   "metadata": {},
   "outputs": [
    {
     "name": "stderr",
     "output_type": "stream",
     "text": [
      "/tmp/ipykernel_2396118/1021279972.py:7: FutureWarning: The frame.append method is deprecated and will be removed from pandas in a future version. Use pandas.concat instead.\n",
      "  isescan_cov_check_result_df = isescan_cov_check_result_df.append(row)\n"
     ]
    },
    {
     "data": {
      "text/html": [
       "<div>\n",
       "<style scoped>\n",
       "    .dataframe tbody tr th:only-of-type {\n",
       "        vertical-align: middle;\n",
       "    }\n",
       "\n",
       "    .dataframe tbody tr th {\n",
       "        vertical-align: top;\n",
       "    }\n",
       "\n",
       "    .dataframe thead th {\n",
       "        text-align: right;\n",
       "    }\n",
       "</style>\n",
       "<table border=\"1\" class=\"dataframe\">\n",
       "  <thead>\n",
       "    <tr style=\"text-align: right;\">\n",
       "      <th></th>\n",
       "      <th>seqID</th>\n",
       "      <th>cluster</th>\n",
       "      <th>isBegin</th>\n",
       "      <th>isEnd</th>\n",
       "      <th>Median_Depth</th>\n",
       "    </tr>\n",
       "  </thead>\n",
       "  <tbody>\n",
       "    <tr>\n",
       "      <th>0</th>\n",
       "      <td>contig_2</td>\n",
       "      <td>IS21_203</td>\n",
       "      <td>39</td>\n",
       "      <td>1948</td>\n",
       "      <td>90.5</td>\n",
       "    </tr>\n",
       "  </tbody>\n",
       "</table>\n",
       "</div>"
      ],
      "text/plain": [
       "      seqID   cluster isBegin isEnd  Median_Depth\n",
       "0  contig_2  IS21_203      39  1948          90.5"
      ]
     },
     "execution_count": 22,
     "metadata": {},
     "output_type": "execute_result"
    }
   ],
   "source": [
    "isescan_cov_check_result_df = pd.DataFrame(columns=data_isescan.columns)\n",
    "for _, row in data_isescan.iterrows():\n",
    "    name = row['seqID']\n",
    "    median_of_is = row['Median_Depth']\n",
    "    median_by_contig = depth_by_contig_df.loc[depth_by_contig_df['Contig'] == name, 'Depth'].values[0]\n",
    "    if median_of_is >= 1.5 * median_by_contig:\n",
    "        isescan_cov_check_result_df = isescan_cov_check_result_df.append(row)\n",
    "isescan_cov_check_result_df\n",
    "#result_df.to_csv('ISEscan_res_verified.tsv', sep='\\t', header=False, index=False)\n",
    "#print(\"IS coordinates from ISEscan verified and saved.\")"
   ]
  },
  {
   "cell_type": "code",
   "execution_count": 27,
   "id": "96a14330-bc96-4d7c-b8af-376ccb188ead",
   "metadata": {},
   "outputs": [
    {
     "name": "stderr",
     "output_type": "stream",
     "text": [
      "/tmp/ipykernel_2396118/3289407179.py:9: FutureWarning: The frame.append method is deprecated and will be removed from pandas in a future version. Use pandas.concat instead.\n",
      "  isescan_len_check_result_df = isescan_len_check_result_df.append(row)\n"
     ]
    },
    {
     "data": {
      "text/html": [
       "<div>\n",
       "<style scoped>\n",
       "    .dataframe tbody tr th:only-of-type {\n",
       "        vertical-align: middle;\n",
       "    }\n",
       "\n",
       "    .dataframe tbody tr th {\n",
       "        vertical-align: top;\n",
       "    }\n",
       "\n",
       "    .dataframe thead th {\n",
       "        text-align: right;\n",
       "    }\n",
       "</style>\n",
       "<table border=\"1\" class=\"dataframe\">\n",
       "  <thead>\n",
       "    <tr style=\"text-align: right;\">\n",
       "      <th></th>\n",
       "      <th>seqID</th>\n",
       "      <th>cluster</th>\n",
       "      <th>isBegin</th>\n",
       "      <th>isEnd</th>\n",
       "      <th>Length</th>\n",
       "    </tr>\n",
       "  </thead>\n",
       "  <tbody>\n",
       "    <tr>\n",
       "      <th>0</th>\n",
       "      <td>contig_2</td>\n",
       "      <td>IS21_203</td>\n",
       "      <td>39</td>\n",
       "      <td>1948</td>\n",
       "      <td>1909</td>\n",
       "    </tr>\n",
       "  </tbody>\n",
       "</table>\n",
       "</div>"
      ],
      "text/plain": [
       "      seqID   cluster isBegin isEnd Length\n",
       "0  contig_2  IS21_203      39  1948   1909"
      ]
     },
     "execution_count": 27,
     "metadata": {},
     "output_type": "execute_result"
    }
   ],
   "source": [
    "isescan_len_check_result_df = pd.DataFrame(columns=data_isescan.columns)\n",
    "for _, row in data_isescan.iterrows():\n",
    "    name = row['seqID']\n",
    "    length_of_determinant = row['Length']\n",
    "        #  same logic as for coverage, thanks BLAST sukablyat'\n",
    "    try:\n",
    "        contig_length = length_by_contig_df.loc[length_by_contig_df['Contig'] == name, 'Length'].values[0]\n",
    "        if length_of_determinant >= 0.5 * contig_length:\n",
    "            isescan_len_check_result_df = isescan_len_check_result_df.append(row)\n",
    "    except:\n",
    "        pass\n",
    "isescan_len_check_result_df"
   ]
  },
  {
   "cell_type": "code",
   "execution_count": 14,
   "id": "80020ef7-a0c7-4b49-ac64-3cbc43f1ab06",
   "metadata": {},
   "outputs": [],
   "source": [
    "blast_is = pd.read_csv('/home/ignatsonets/Downloads/str1627/for_test_v4/yp_str_1627.blast_ISs.txt', sep = '\\t', header = None, usecols = blast_cols, names = ['seqID', 'Length', 'isBegin', 'isEnd', 'Title'])\n",
    "blast_phage = pd.read_csv('/home/ignatsonets/Downloads/str1627/for_test_v4/yp_str_1627.blast_phage.txt', sep = '\\t', header = None, usecols = blast_cols, names = ['seqID', 'Length', 'isBegin', 'isEnd', 'Title'])\n",
    "blast_rrna = pd.read_csv('/home/ignatsonets/Downloads/str1627/for_test_v4/yp_str_1627.blast_rrnas.txt', sep = '\\t', header = None, usecols = blast_cols, names = ['seqID', 'Length', 'isBegin', 'isEnd', 'Title'])"
   ]
  },
  {
   "cell_type": "code",
   "execution_count": 15,
   "id": "098a6fda-63c2-4b63-982a-5f0024651ee9",
   "metadata": {},
   "outputs": [
    {
     "data": {
      "text/html": [
       "<div>\n",
       "<style scoped>\n",
       "    .dataframe tbody tr th:only-of-type {\n",
       "        vertical-align: middle;\n",
       "    }\n",
       "\n",
       "    .dataframe tbody tr th {\n",
       "        vertical-align: top;\n",
       "    }\n",
       "\n",
       "    .dataframe thead th {\n",
       "        text-align: right;\n",
       "    }\n",
       "</style>\n",
       "<table border=\"1\" class=\"dataframe\">\n",
       "  <thead>\n",
       "    <tr style=\"text-align: right;\">\n",
       "      <th></th>\n",
       "      <th>seqID</th>\n",
       "      <th>Length</th>\n",
       "      <th>isBegin</th>\n",
       "      <th>isEnd</th>\n",
       "      <th>Title</th>\n",
       "    </tr>\n",
       "  </thead>\n",
       "  <tbody>\n",
       "    <tr>\n",
       "      <th>0</th>\n",
       "      <td>contig_2</td>\n",
       "      <td>1050</td>\n",
       "      <td>818</td>\n",
       "      <td>1867</td>\n",
       "      <td>lcl|NC_003143.1_cds_WP_002430106.1_1954 [gene=...</td>\n",
       "    </tr>\n",
       "    <tr>\n",
       "      <th>1</th>\n",
       "      <td>contig_4</td>\n",
       "      <td>1209</td>\n",
       "      <td>36</td>\n",
       "      <td>1244</td>\n",
       "      <td>lcl|NC_003134.1_cds_WP_002209743.1_4283 [locus...</td>\n",
       "    </tr>\n",
       "    <tr>\n",
       "      <th>2</th>\n",
       "      <td>contig_5</td>\n",
       "      <td>1356</td>\n",
       "      <td>45063</td>\n",
       "      <td>46417</td>\n",
       "      <td>lcl|NC_003143.1_cds_WP_100067904.1_4055 [locus...</td>\n",
       "    </tr>\n",
       "  </tbody>\n",
       "</table>\n",
       "</div>"
      ],
      "text/plain": [
       "      seqID  Length  isBegin  isEnd  \\\n",
       "0  contig_2    1050      818   1867   \n",
       "1  contig_4    1209       36   1244   \n",
       "2  contig_5    1356    45063  46417   \n",
       "\n",
       "                                               Title  \n",
       "0  lcl|NC_003143.1_cds_WP_002430106.1_1954 [gene=...  \n",
       "1  lcl|NC_003134.1_cds_WP_002209743.1_4283 [locus...  \n",
       "2  lcl|NC_003143.1_cds_WP_100067904.1_4055 [locus...  "
      ]
     },
     "execution_count": 15,
     "metadata": {},
     "output_type": "execute_result"
    }
   ],
   "source": [
    "blast_is"
   ]
  },
  {
   "cell_type": "code",
   "execution_count": 16,
   "id": "853d2412-f63b-4aa9-973a-9abd560089df",
   "metadata": {},
   "outputs": [
    {
     "data": {
      "text/html": [
       "<div>\n",
       "<style scoped>\n",
       "    .dataframe tbody tr th:only-of-type {\n",
       "        vertical-align: middle;\n",
       "    }\n",
       "\n",
       "    .dataframe tbody tr th {\n",
       "        vertical-align: top;\n",
       "    }\n",
       "\n",
       "    .dataframe thead th {\n",
       "        text-align: right;\n",
       "    }\n",
       "</style>\n",
       "<table border=\"1\" class=\"dataframe\">\n",
       "  <thead>\n",
       "    <tr style=\"text-align: right;\">\n",
       "      <th></th>\n",
       "      <th>seqID</th>\n",
       "      <th>Length</th>\n",
       "      <th>isBegin</th>\n",
       "      <th>isEnd</th>\n",
       "      <th>Title</th>\n",
       "    </tr>\n",
       "  </thead>\n",
       "  <tbody>\n",
       "  </tbody>\n",
       "</table>\n",
       "</div>"
      ],
      "text/plain": [
       "Empty DataFrame\n",
       "Columns: [seqID, Length, isBegin, isEnd, Title]\n",
       "Index: []"
      ]
     },
     "execution_count": 16,
     "metadata": {},
     "output_type": "execute_result"
    }
   ],
   "source": [
    "blast_phage"
   ]
  },
  {
   "cell_type": "code",
   "execution_count": 17,
   "id": "b44b6cd6-2795-4afb-ab35-7a618f689782",
   "metadata": {},
   "outputs": [
    {
     "data": {
      "text/html": [
       "<div>\n",
       "<style scoped>\n",
       "    .dataframe tbody tr th:only-of-type {\n",
       "        vertical-align: middle;\n",
       "    }\n",
       "\n",
       "    .dataframe tbody tr th {\n",
       "        vertical-align: top;\n",
       "    }\n",
       "\n",
       "    .dataframe thead th {\n",
       "        text-align: right;\n",
       "    }\n",
       "</style>\n",
       "<table border=\"1\" class=\"dataframe\">\n",
       "  <thead>\n",
       "    <tr style=\"text-align: right;\">\n",
       "      <th></th>\n",
       "      <th>seqID</th>\n",
       "      <th>Length</th>\n",
       "      <th>isBegin</th>\n",
       "      <th>isEnd</th>\n",
       "      <th>Title</th>\n",
       "    </tr>\n",
       "  </thead>\n",
       "  <tbody>\n",
       "  </tbody>\n",
       "</table>\n",
       "</div>"
      ],
      "text/plain": [
       "Empty DataFrame\n",
       "Columns: [seqID, Length, isBegin, isEnd, Title]\n",
       "Index: []"
      ]
     },
     "execution_count": 17,
     "metadata": {},
     "output_type": "execute_result"
    }
   ],
   "source": [
    "blast_rrna"
   ]
  },
  {
   "cell_type": "code",
   "execution_count": 20,
   "id": "5acca07c-4148-4d01-bfb7-78f542f77a0f",
   "metadata": {},
   "outputs": [],
   "source": [
    "output_res_blast =[]\n",
    "for _, row in blast_is.iterrows():\n",
    "    start = row['isBegin']\n",
    "    stop = row['isEnd']\n",
    "    window_data = depth_file[(depth_file['Coord'] >= start) & (depth_file['Coord'] <= stop)]\n",
    "    median_window = window_data['Depth'].median()\n",
    "    output_res_blast.append(median_window)\n",
    "output_res_blast\n",
    "blast_is['Median_Depth']= output_res_blast"
   ]
  },
  {
   "cell_type": "code",
   "execution_count": 21,
   "id": "6bf704bc-26fa-4d71-9e25-9a505f1d53af",
   "metadata": {},
   "outputs": [
    {
     "data": {
      "text/html": [
       "<div>\n",
       "<style scoped>\n",
       "    .dataframe tbody tr th:only-of-type {\n",
       "        vertical-align: middle;\n",
       "    }\n",
       "\n",
       "    .dataframe tbody tr th {\n",
       "        vertical-align: top;\n",
       "    }\n",
       "\n",
       "    .dataframe thead th {\n",
       "        text-align: right;\n",
       "    }\n",
       "</style>\n",
       "<table border=\"1\" class=\"dataframe\">\n",
       "  <thead>\n",
       "    <tr style=\"text-align: right;\">\n",
       "      <th></th>\n",
       "      <th>seqID</th>\n",
       "      <th>Length</th>\n",
       "      <th>isBegin</th>\n",
       "      <th>isEnd</th>\n",
       "      <th>Title</th>\n",
       "      <th>Median_Depth</th>\n",
       "    </tr>\n",
       "  </thead>\n",
       "  <tbody>\n",
       "    <tr>\n",
       "      <th>0</th>\n",
       "      <td>contig_2</td>\n",
       "      <td>1050</td>\n",
       "      <td>818</td>\n",
       "      <td>1867</td>\n",
       "      <td>lcl|NC_003143.1_cds_WP_002430106.1_1954 [gene=...</td>\n",
       "      <td>105.0</td>\n",
       "    </tr>\n",
       "    <tr>\n",
       "      <th>1</th>\n",
       "      <td>contig_4</td>\n",
       "      <td>1209</td>\n",
       "      <td>36</td>\n",
       "      <td>1244</td>\n",
       "      <td>lcl|NC_003134.1_cds_WP_002209743.1_4283 [locus...</td>\n",
       "      <td>92.0</td>\n",
       "    </tr>\n",
       "    <tr>\n",
       "      <th>2</th>\n",
       "      <td>contig_5</td>\n",
       "      <td>1356</td>\n",
       "      <td>45063</td>\n",
       "      <td>46417</td>\n",
       "      <td>lcl|NC_003143.1_cds_WP_100067904.1_4055 [locus...</td>\n",
       "      <td>221.0</td>\n",
       "    </tr>\n",
       "  </tbody>\n",
       "</table>\n",
       "</div>"
      ],
      "text/plain": [
       "      seqID  Length  isBegin  isEnd  \\\n",
       "0  contig_2    1050      818   1867   \n",
       "1  contig_4    1209       36   1244   \n",
       "2  contig_5    1356    45063  46417   \n",
       "\n",
       "                                               Title  Median_Depth  \n",
       "0  lcl|NC_003143.1_cds_WP_002430106.1_1954 [gene=...         105.0  \n",
       "1  lcl|NC_003134.1_cds_WP_002209743.1_4283 [locus...          92.0  \n",
       "2  lcl|NC_003143.1_cds_WP_100067904.1_4055 [locus...         221.0  "
      ]
     },
     "execution_count": 21,
     "metadata": {},
     "output_type": "execute_result"
    }
   ],
   "source": [
    "blast_is"
   ]
  },
  {
   "cell_type": "code",
   "execution_count": 23,
   "id": "259c3dbf-44b1-46d5-a152-679f479e7c88",
   "metadata": {},
   "outputs": [
    {
     "name": "stderr",
     "output_type": "stream",
     "text": [
      "/tmp/ipykernel_2396118/3843439744.py:7: FutureWarning: The frame.append method is deprecated and will be removed from pandas in a future version. Use pandas.concat instead.\n",
      "  blast_is_cov_check_result_df = blast_is_cov_check_result_df.append(row)\n"
     ]
    },
    {
     "data": {
      "text/html": [
       "<div>\n",
       "<style scoped>\n",
       "    .dataframe tbody tr th:only-of-type {\n",
       "        vertical-align: middle;\n",
       "    }\n",
       "\n",
       "    .dataframe tbody tr th {\n",
       "        vertical-align: top;\n",
       "    }\n",
       "\n",
       "    .dataframe thead th {\n",
       "        text-align: right;\n",
       "    }\n",
       "</style>\n",
       "<table border=\"1\" class=\"dataframe\">\n",
       "  <thead>\n",
       "    <tr style=\"text-align: right;\">\n",
       "      <th></th>\n",
       "      <th>seqID</th>\n",
       "      <th>Length</th>\n",
       "      <th>isBegin</th>\n",
       "      <th>isEnd</th>\n",
       "      <th>Title</th>\n",
       "      <th>Median_Depth</th>\n",
       "    </tr>\n",
       "  </thead>\n",
       "  <tbody>\n",
       "    <tr>\n",
       "      <th>0</th>\n",
       "      <td>contig_2</td>\n",
       "      <td>1050</td>\n",
       "      <td>818</td>\n",
       "      <td>1867</td>\n",
       "      <td>lcl|NC_003143.1_cds_WP_002430106.1_1954 [gene=...</td>\n",
       "      <td>105.0</td>\n",
       "    </tr>\n",
       "  </tbody>\n",
       "</table>\n",
       "</div>"
      ],
      "text/plain": [
       "      seqID Length isBegin isEnd  \\\n",
       "0  contig_2   1050     818  1867   \n",
       "\n",
       "                                               Title  Median_Depth  \n",
       "0  lcl|NC_003143.1_cds_WP_002430106.1_1954 [gene=...         105.0  "
      ]
     },
     "execution_count": 23,
     "metadata": {},
     "output_type": "execute_result"
    }
   ],
   "source": [
    "blast_is_cov_check_result_df = pd.DataFrame(columns=blast_is.columns)\n",
    "for _, row in blast_is.iterrows():\n",
    "    name = row['seqID']\n",
    "    median_of_is = row['Median_Depth']\n",
    "    median_by_contig = depth_by_contig_df.loc[depth_by_contig_df['Contig'] == name, 'Depth'].values[0]\n",
    "    if median_of_is >= 1.5 * median_by_contig:\n",
    "        blast_is_cov_check_result_df = blast_is_cov_check_result_df.append(row)\n",
    "blast_is_cov_check_result_df"
   ]
  },
  {
   "cell_type": "code",
   "execution_count": 28,
   "id": "f9aeac9d-643e-4243-bead-1da0c02e4391",
   "metadata": {},
   "outputs": [
    {
     "name": "stderr",
     "output_type": "stream",
     "text": [
      "/tmp/ipykernel_2396118/32199292.py:9: FutureWarning: The frame.append method is deprecated and will be removed from pandas in a future version. Use pandas.concat instead.\n",
      "  blast_is_len_check_result_df = blast_is_len_check_result_df.append(row)\n"
     ]
    },
    {
     "data": {
      "text/html": [
       "<div>\n",
       "<style scoped>\n",
       "    .dataframe tbody tr th:only-of-type {\n",
       "        vertical-align: middle;\n",
       "    }\n",
       "\n",
       "    .dataframe tbody tr th {\n",
       "        vertical-align: top;\n",
       "    }\n",
       "\n",
       "    .dataframe thead th {\n",
       "        text-align: right;\n",
       "    }\n",
       "</style>\n",
       "<table border=\"1\" class=\"dataframe\">\n",
       "  <thead>\n",
       "    <tr style=\"text-align: right;\">\n",
       "      <th></th>\n",
       "      <th>seqID</th>\n",
       "      <th>Length</th>\n",
       "      <th>isBegin</th>\n",
       "      <th>isEnd</th>\n",
       "      <th>Title</th>\n",
       "      <th>Median_Depth</th>\n",
       "    </tr>\n",
       "  </thead>\n",
       "  <tbody>\n",
       "    <tr>\n",
       "      <th>0</th>\n",
       "      <td>contig_2</td>\n",
       "      <td>1050</td>\n",
       "      <td>818</td>\n",
       "      <td>1867</td>\n",
       "      <td>lcl|NC_003143.1_cds_WP_002430106.1_1954 [gene=...</td>\n",
       "      <td>105.0</td>\n",
       "    </tr>\n",
       "  </tbody>\n",
       "</table>\n",
       "</div>"
      ],
      "text/plain": [
       "      seqID Length isBegin isEnd  \\\n",
       "0  contig_2   1050     818  1867   \n",
       "\n",
       "                                               Title  Median_Depth  \n",
       "0  lcl|NC_003143.1_cds_WP_002430106.1_1954 [gene=...         105.0  "
      ]
     },
     "execution_count": 28,
     "metadata": {},
     "output_type": "execute_result"
    }
   ],
   "source": [
    "blast_is_len_check_result_df = pd.DataFrame(columns=blast_is.columns)\n",
    "for _, row in blast_is.iterrows():\n",
    "    name = row['seqID']\n",
    "    length_of_determinant = row['Length']\n",
    "        #  same logic as for coverage, thanks BLAST sukablyat'\n",
    "    try:\n",
    "        contig_length = length_by_contig_df.loc[length_by_contig_df['Contig'] == name, 'Length'].values[0]\n",
    "        if length_of_determinant >= 0.5 * contig_length:\n",
    "            blast_is_len_check_result_df = blast_is_len_check_result_df.append(row)\n",
    "    except:\n",
    "        pass\n",
    "blast_is_len_check_result_df"
   ]
  }
 ],
 "metadata": {
  "kernelspec": {
   "display_name": "Python 3 (ipykernel)",
   "language": "python",
   "name": "python3"
  },
  "language_info": {
   "codemirror_mode": {
    "name": "ipython",
    "version": 3
   },
   "file_extension": ".py",
   "mimetype": "text/x-python",
   "name": "python",
   "nbconvert_exporter": "python",
   "pygments_lexer": "ipython3",
   "version": "3.11.8"
  }
 },
 "nbformat": 4,
 "nbformat_minor": 5
}
